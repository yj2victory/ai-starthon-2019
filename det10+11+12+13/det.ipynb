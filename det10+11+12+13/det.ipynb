{
  "nbformat": 4,
  "nbformat_minor": 0,
  "metadata": {
    "colab": {
      "name": "auto-sklearn_AMIR19.ipynb의 사본",
      "provenance": []
    },
    "kernelspec": {
      "name": "python3",
      "display_name": "Python 3"
    }
  },
  "cells": [
    {
      "cell_type": "markdown",
      "metadata": {
        "id": "ONJ7fd7sqciK",
        "colab_type": "text"
      },
      "source": [
        "# Prerequisite\n",
        "\n",
        "Task:\n",
        "\n",
        "파라미터 5MB 이내 사진 내의 자동차 영역 추출하기 \n",
        "\n",
        "Dataset Description:\n",
        "\n",
        "train\n",
        "--train_data (folder)\n",
        "        \\_ *.jpg (자동차 사진)\n",
        "        \\_ *.txt (bounding box ([x,y,w,h]))\n",
        "\n",
        "of training images: 1,749\n",
        "of test images: 230"
      ]
    },
    {
      "cell_type": "code",
      "metadata": {
        "id": "Ob_awu8rchxf",
        "colab_type": "code",
        "colab": {}
      },
      "source": [
        ""
      ],
      "execution_count": 0,
      "outputs": []
    }
  ]
}