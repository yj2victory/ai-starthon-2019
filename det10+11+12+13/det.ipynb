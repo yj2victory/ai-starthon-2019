{
  "nbformat": 4,
  "nbformat_minor": 0,
  "metadata": {
    "colab": {
      "name": "auto-sklearn_AMIR19.ipynb의 사본",
      "provenance": []
    },
    "kernelspec": {
      "name": "python3",
      "display_name": "Python 3"
    }
  },
  "cells": [
    {
      "cell_type": "markdown",
      "metadata": {
        "id": "ONJ7fd7sqciK",
        "colab_type": "text"
      },
      "source": [
        "# Prerequisite\n",
        "\n",
        "Task:\n",
        "\n",
        "파라미터 5MB 이내 사진 내의 자동차 영역 추출하기 \n",
        "\n",
        "Dataset Description:\n",
        "\n",
        "train\n",
        "--train_data (folder)\n",
        "        \\_ *.jpg (자동차 사진)\n",
        "        \\_ *.txt (bounding box ([x,y,w,h]))\n",
        "\n",
        "of training images: 1,749\n",
        "of test images: 230"
      ]
    },
    {
      "cell_type": "code",
      "metadata": {
        "id": "Ob_awu8rchxf",
        "colab_type": "code",
        "colab": {
          "resources": {
            "http://localhost:8080/nbextensions/google.colab/files.js": {
              "data": "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",
              "ok": true,
              "headers": [
                [
                  "content-type",
                  "application/javascript"
                ]
              ],
              "status": 200,
              "status_text": ""
            }
          },
          "base_uri": "https://localhost:8080/",
          "height": 343
        },
        "outputId": "a7ebb2f3-f04e-4e1d-d4bf-1101c3f0b5d2"
      },
      "source": [
        "from google.colab import files\n",
        "def getLocalFiles():\n",
        "    _files = files.upload()\n",
        "    if len(_files) >0:\n",
        "       for k,v in _files.items():\n",
        "         open(k,'wb').write(v)\n",
        "getLocalFiles()"
      ],
      "execution_count": 46,
      "outputs": [
        {
          "output_type": "display_data",
          "data": {
            "text/html": [
              "\n",
              "     <input type=\"file\" id=\"files-1facab1a-7323-443a-abc5-48fbd671b1b3\" name=\"files[]\" multiple disabled />\n",
              "     <output id=\"result-1facab1a-7323-443a-abc5-48fbd671b1b3\">\n",
              "      Upload widget is only available when the cell has been executed in the\n",
              "      current browser session. Please rerun this cell to enable.\n",
              "      </output>\n",
              "      <script src=\"/nbextensions/google.colab/files.js\"></script> "
            ],
            "text/plain": [
              "<IPython.core.display.HTML object>"
            ]
          },
          "metadata": {
            "tags": []
          }
        },
        {
          "output_type": "stream",
          "text": [
            "Saving common.py to common.py\n",
            "Saving data_loader.py to data_loader.py\n",
            "Saving data_local_loader.py to data_local_loader.py\n",
            "Saving ensemble_task12.py to ensemble_task12.py\n",
            "Saving evaluation.py to evaluation.py\n",
            "Saving main.py to main.py\n",
            "Saving model.py to model.py\n",
            "Saving setup.py to setup.py\n",
            "Saving utils.py to utils.py\n"
          ],
          "name": "stdout"
        }
      ]
    },
    {
      "cell_type": "code",
      "metadata": {
        "id": "dXaGzRJhiRWY",
        "colab_type": "code",
        "colab": {}
      },
      "source": [
        "!rm /content/*.py"
      ],
      "execution_count": 0,
      "outputs": []
    },
    {
      "cell_type": "code",
      "metadata": {
        "id": "fVlgtGEjdhEv",
        "colab_type": "code",
        "colab": {
          "base_uri": "https://localhost:8080/",
          "height": 122
        },
        "outputId": "425ea1c4-de02-444c-c287-5e9e6cdec6e9"
      },
      "source": [
        "from google.colab import auth\n",
        "auth.authenticate_user()\n",
        "\n",
        "from google.colab import drive\n",
        "drive.mount('/content/gdrive')\n",
        "\n",
        "#4/zgGwOO_LQDqw0kqTswXBUdhjRAEWQdFo9brQ9hzMuz4S1hDoNM09Uv0"
      ],
      "execution_count": 13,
      "outputs": [
        {
          "output_type": "stream",
          "text": [
            "Go to this URL in a browser: https://accounts.google.com/o/oauth2/auth?client_id=947318989803-6bn6qk8qdgf4n4g3pfee6491hc0brc4i.apps.googleusercontent.com&redirect_uri=urn%3aietf%3awg%3aoauth%3a2.0%3aoob&response_type=code&scope=email%20https%3a%2f%2fwww.googleapis.com%2fauth%2fdocs.test%20https%3a%2f%2fwww.googleapis.com%2fauth%2fdrive%20https%3a%2f%2fwww.googleapis.com%2fauth%2fdrive.photos.readonly%20https%3a%2f%2fwww.googleapis.com%2fauth%2fpeopleapi.readonly\n",
            "\n",
            "Enter your authorization code:\n",
            "··········\n",
            "Mounted at /content/gdrive\n"
          ],
          "name": "stdout"
        }
      ]
    },
    {
      "cell_type": "code",
      "metadata": {
        "id": "-eOlaYdeeGCx",
        "colab_type": "code",
        "colab": {
          "base_uri": "https://localhost:8080/",
          "height": 34
        },
        "outputId": "c94b9f2d-e3fb-490d-a086-e3db080c7faf"
      },
      "source": [
        "!ls \"/content/gdrive/My Drive/Colab/\""
      ],
      "execution_count": 22,
      "outputs": [
        {
          "output_type": "stream",
          "text": [
            "11_idet5_car  cifar-100-python\n"
          ],
          "name": "stdout"
        }
      ]
    },
    {
      "cell_type": "code",
      "metadata": {
        "id": "51ToVhUXdIp2",
        "colab_type": "code",
        "colab": {}
      },
      "source": [
        "import os\n",
        "import datetime\n",
        "import sys\n",
        "\n",
        "import numpy as np\n",
        "\n",
        "import torch\n",
        "from torch.optim import Adam\n",
        "\n",
        "import argparse\n",
        "\n",
        "from torch.optim.sgd import SGD\n",
        "\n",
        "from common import Accumulator, get_logger\n",
        "from data_loader import feed_infer\n",
        "from data_local_loader import data_loader, data_loader_with_split\n",
        "from evaluation import evaluation_metrics\n",
        "\n",
        "# import nsml\n",
        "# from nsml import DATASET_PATH, IS_ON_NSML\n",
        "\n",
        "from model import SSD300, MultiBoxLoss\n",
        "\n",
        "# if IS_ON_NSML:\n",
        "#     TRAIN_DATASET_PATH = os.path.join(DATASET_PATH, 'train', 'train_data')\n",
        "#     VAL_DATASET_PATH = None\n",
        "# else:\n",
        "#     TRAIN_DATASET_PATH = os.path.join('/home/data/NIPAKoreanFoodLocalizeSmall/train/train_data')\n",
        "#     VAL_DATASET_PATH = os.path.join('/home/data/NIPAKoreanFoodLocalizeSmall/test')\n",
        "data_path='/content/gdrive/My Drive/Colab/11_idet5_car/'\n",
        "TRAIN_DATASET_PATH = os.path.join(data_path+'train/train_data')\n",
        "VAL_DATASET_PATH = os.path.join(data_path+'test')\n",
        "\n",
        "\n",
        "logger = get_logger('det')\n"
      ],
      "execution_count": 0,
      "outputs": []
    },
    {
      "cell_type": "code",
      "metadata": {
        "id": "bE4ypUbMfAqs",
        "colab_type": "code",
        "colab": {}
      },
      "source": [
        "def _infer(model, root_path, test_loader=None):\n",
        "    if test_loader is None:\n",
        "        test_loader = data_loader(\n",
        "            root=os.path.join(root_path, 'test_data'),\n",
        "            phase='test')\n",
        "\n",
        "    model.eval()\n",
        "    outputs = []\n",
        "    for idx, (image, _) in enumerate(test_loader):\n",
        "        with torch.no_grad():\n",
        "            locs, scores = model(image.cuda())\n",
        "            all_images_boxes, _ = model.detect_objects(locs, scores)\n",
        "\n",
        "        for box in all_images_boxes:\n",
        "            box = box.detach().cpu().numpy()\n",
        "            outputs.append(box)\n",
        "\n",
        "    outputs = np.stack(outputs, axis=0)\n",
        "    return outputs\n",
        "\n",
        "\n",
        "def local_eval(model, test_loader=None, test_label_file=None):\n",
        "    prediction_file = 'pred_train.txt'\n",
        "    feed_infer(prediction_file, lambda root_path: _infer(model, root_path, test_loader=test_loader))\n",
        "    if not test_label_file:\n",
        "        test_label_file = os.path.join(VAL_DATASET_PATH, 'test_label')\n",
        "    metric_result = evaluation_metrics(\n",
        "        prediction_file,\n",
        "        test_label_file\n",
        "    )\n",
        "    logger.info('Eval result: {:.4f} mIoU'.format(metric_result))\n",
        "    return metric_result\n",
        "\n",
        "\n",
        "# def bind_nsml(model, optimizer, scheduler):\n",
        "#     def save(dir_name, *args, **kwargs):\n",
        "#         os.makedirs(dir_name, exist_ok=True)\n",
        "#         state = {\n",
        "#             'model': model.state_dict(),\n",
        "#             'optimizer': optimizer.state_dict(),\n",
        "#             'scheduler': scheduler.state_dict()\n",
        "#         }\n",
        "#         torch.save(state, os.path.join(dir_name, 'model.pth'))\n",
        "#         logger.info('saved')\n",
        "\n",
        "#     def load(dir_name, *args, **kwargs):\n",
        "#         state = torch.load(os.path.join(dir_name, 'model.pth'))\n",
        "#         model.load_state_dict(state['model'])\n",
        "#         optimizer.load_state_dict(state['optimizer'])\n",
        "#         scheduler.load_state_dict(state['scheduler'])\n",
        "#         logger.info('loaded')\n",
        "\n",
        "#     def infer(root_path):\n",
        "#         return _infer(model, root_path)\n",
        "\n",
        "#      nsml.bind(save=save, load=load, infer=infer)\n",
        "\n"
      ],
      "execution_count": 0,
      "outputs": []
    },
    {
      "cell_type": "code",
      "metadata": {
        "id": "BvWOrEPHfkH1",
        "colab_type": "code",
        "colab": {}
      },
      "source": [
        "# mode argument\n",
        "args = argparse.ArgumentParser()\n",
        "args.add_argument(\"--train_split\", type=float, default=0.9)\n",
        "args.add_argument(\"--lr\", type=float, default=0.001)\n",
        "args.add_argument(\"--batch\", type=int, default=64)\n",
        "args.add_argument(\"--cuda\", type=bool, default=True)\n",
        "args.add_argument(\"--num_epochs\", type=int, default=200)\n",
        "args.add_argument(\"--eval_split\", type=str, default='val')\n",
        "args.add_argument(\"--transfer\", type=int, default=0)\n",
        "\n",
        "# reserved for nsml\n",
        "args.add_argument(\"--mode\", type=str, default=\"train\")\n",
        "args.add_argument(\"--iteration\", type=str, default='0')\n",
        "args.add_argument(\"--pause\", type=int, default=0)\n",
        "\n",
        "\n",
        "train_split = 0.9\n",
        "base_lr = 0.001\n",
        "cuda = False\n",
        "num_epochs = 200\n",
        "eval_split = 'val'\n",
        "mode = \"train\"     \n"
      ],
      "execution_count": 0,
      "outputs": []
    },
    {
      "cell_type": "code",
      "metadata": {
        "id": "uVQe16bVf3ci",
        "colab_type": "code",
        "colab": {}
      },
      "source": [
        "model = SSD300(n_classes=2)\n",
        "loss_fn = MultiBoxLoss(priors_cxcy=model.priors_cxcy)\n",
        "\n",
        "if cuda:\n",
        "  model = model.cuda()\n",
        "  loss_fn = loss_fn.cuda()\n",
        "\n",
        "optimizer = Adam([param for param in model.parameters() if param.requires_grad], lr=base_lr, weight_decay=1e-4)\n",
        "# optimizer = SGD([param for param in model.parameters() if param.requires_grad], lr=base_lr, weight_decay=1e-4, momentum=0.9, nesterov=True)\n",
        "scheduler = torch.optim.lr_scheduler.CosineAnnealingLR(optimizer, T_max=num_epochs, eta_min=0.)"
      ],
      "execution_count": 0,
      "outputs": []
    },
    {
      "cell_type": "code",
      "metadata": {
        "id": "SdpvfPVugeJ2",
        "colab_type": "code",
        "colab": {
          "base_uri": "https://localhost:8080/",
          "height": 395
        },
        "outputId": "124ee1b6-9881-480f-f569-efedde36fed9"
      },
      "source": [
        "if mode == 'train':\n",
        "  tr_loader, val_loader, val_label_file = data_loader_with_split(root=TRAIN_DATASET_PATH, train_split=train_split, batch_size=64)\n",
        "  time_ = datetime.datetime.now()\n",
        "  num_batches = len(tr_loader)\n",
        "\n",
        "  local_eval(model, val_loader, val_label_file)\n",
        "  best_iou = 0.\n",
        "  for epoch in range(num_epochs):\n",
        "    metrics = Accumulator()\n",
        "    scheduler.step()\n",
        "    model.train()\n",
        "    cnt = 0\n",
        "    for iter_, data in enumerate(tr_loader):\n",
        "      x, label = data\n",
        "      label[:, :, 2:] = label[:, :, 2:] + label[:, :, :2]  # convert to min-xy, max-xy\n",
        "\n",
        "      if cuda:\n",
        "        x = x.cuda()\n",
        "        label = label.cuda()\n",
        "\n",
        "      predicted_locs, predicted_scores = model(x)\n",
        "      loss = loss_fn(predicted_locs, predicted_scores, label, torch.ones((label.shape[0], 1), dtype=torch.long))\n",
        "      if torch.isnan(loss):\n",
        "        logger.error('loss nan. epoch=%d iter=%d' % (epoch, iter_))\n",
        "        sys.exit(-1)\n",
        "      optimizer.zero_grad()\n",
        "      loss.backward()\n",
        "      optimizer.step()\n",
        "\n",
        "      metrics.add_dict({\n",
        "                    'loss': loss.item() * len(x)\n",
        "                })\n",
        "      cnt += len(x)\n",
        "\n",
        "      if iter_ >= 50:  # TODO\n",
        "        break\n",
        "\n",
        "      postfix = metrics / cnt\n",
        "      logger.info('[{:d}/{:d}] lr({:.6f}) loss({:.4f})'.format(\n",
        "                epoch + 1, num_epochs, optimizer.param_groups[0]['lr'], postfix['loss'])\n",
        "            )\n",
        "\n",
        "      if (epoch + 1) % 5 == 0:\n",
        "          miou = local_eval(model, val_loader, val_label_file)\n",
        "          if best_iou < miou:\n",
        "              best_iou = miou\n",
        "          #     nsml.save('best')\n",
        "          #     nsml.report(summary=True, scope=locals(), step=(epoch + 1), loss=postfix['loss'], miou=miou)\n",
        "          # nsml.save(str(epoch + 1))\n",
        "          # nsml.report(summary=True, scope=locals(), step=(epoch + 1), loss=postfix['loss'], miou=miou)\n",
        "\n",
        "      elapsed = datetime.datetime.now() - time_"
      ],
      "execution_count": 60,
      "outputs": [
        {
          "output_type": "error",
          "ename": "FileNotFoundError",
          "evalue": "ignored",
          "traceback": [
            "\u001b[0;31m---------------------------------------------------------------------------\u001b[0m",
            "\u001b[0;31mFileNotFoundError\u001b[0m                         Traceback (most recent call last)",
            "\u001b[0;32m<ipython-input-60-784a6f14524b>\u001b[0m in \u001b[0;36m<module>\u001b[0;34m()\u001b[0m\n\u001b[1;32m      1\u001b[0m \u001b[0;32mif\u001b[0m \u001b[0mmode\u001b[0m \u001b[0;34m==\u001b[0m \u001b[0;34m'train'\u001b[0m\u001b[0;34m:\u001b[0m\u001b[0;34m\u001b[0m\u001b[0;34m\u001b[0m\u001b[0m\n\u001b[0;32m----> 2\u001b[0;31m   \u001b[0mtr_loader\u001b[0m\u001b[0;34m,\u001b[0m \u001b[0mval_loader\u001b[0m\u001b[0;34m,\u001b[0m \u001b[0mval_label_file\u001b[0m \u001b[0;34m=\u001b[0m \u001b[0mdata_loader_with_split\u001b[0m\u001b[0;34m(\u001b[0m\u001b[0mroot\u001b[0m\u001b[0;34m=\u001b[0m\u001b[0mTRAIN_DATASET_PATH\u001b[0m\u001b[0;34m,\u001b[0m \u001b[0mtrain_split\u001b[0m\u001b[0;34m=\u001b[0m\u001b[0mtrain_split\u001b[0m\u001b[0;34m,\u001b[0m \u001b[0mbatch_size\u001b[0m\u001b[0;34m=\u001b[0m\u001b[0;36m64\u001b[0m\u001b[0;34m)\u001b[0m\u001b[0;34m\u001b[0m\u001b[0;34m\u001b[0m\u001b[0m\n\u001b[0m\u001b[1;32m      3\u001b[0m   \u001b[0mtime_\u001b[0m \u001b[0;34m=\u001b[0m \u001b[0mdatetime\u001b[0m\u001b[0;34m.\u001b[0m\u001b[0mdatetime\u001b[0m\u001b[0;34m.\u001b[0m\u001b[0mnow\u001b[0m\u001b[0;34m(\u001b[0m\u001b[0;34m)\u001b[0m\u001b[0;34m\u001b[0m\u001b[0;34m\u001b[0m\u001b[0m\n\u001b[1;32m      4\u001b[0m   \u001b[0mnum_batches\u001b[0m \u001b[0;34m=\u001b[0m \u001b[0mlen\u001b[0m\u001b[0;34m(\u001b[0m\u001b[0mtr_loader\u001b[0m\u001b[0;34m)\u001b[0m\u001b[0;34m\u001b[0m\u001b[0;34m\u001b[0m\u001b[0m\n\u001b[1;32m      5\u001b[0m \u001b[0;34m\u001b[0m\u001b[0m\n",
            "\u001b[0;32m/content/data_local_loader.py\u001b[0m in \u001b[0;36mdata_loader_with_split\u001b[0;34m(root, train_split, batch_size, val_label_file)\u001b[0m\n\u001b[1;32m     94\u001b[0m \u001b[0;32mdef\u001b[0m \u001b[0mdata_loader_with_split\u001b[0m\u001b[0;34m(\u001b[0m\u001b[0mroot\u001b[0m\u001b[0;34m,\u001b[0m \u001b[0mtrain_split\u001b[0m\u001b[0;34m=\u001b[0m\u001b[0;36m0.9\u001b[0m\u001b[0;34m,\u001b[0m \u001b[0mbatch_size\u001b[0m\u001b[0;34m=\u001b[0m\u001b[0;36m256\u001b[0m\u001b[0;34m,\u001b[0m \u001b[0mval_label_file\u001b[0m\u001b[0;34m=\u001b[0m\u001b[0;34m'./val_label'\u001b[0m\u001b[0;34m)\u001b[0m\u001b[0;34m:\u001b[0m\u001b[0;34m\u001b[0m\u001b[0;34m\u001b[0m\u001b[0m\n\u001b[1;32m     95\u001b[0m     \u001b[0minput_transform\u001b[0m \u001b[0;34m=\u001b[0m \u001b[0mget_transform\u001b[0m\u001b[0;34m(\u001b[0m\u001b[0;34m)\u001b[0m\u001b[0;34m\u001b[0m\u001b[0;34m\u001b[0m\u001b[0m\n\u001b[0;32m---> 96\u001b[0;31m     \u001b[0mdataset_tr\u001b[0m \u001b[0;34m=\u001b[0m \u001b[0mCustomDataset\u001b[0m\u001b[0;34m(\u001b[0m\u001b[0mroot\u001b[0m\u001b[0;34m,\u001b[0m \u001b[0minput_transform\u001b[0m\u001b[0;34m,\u001b[0m \u001b[0mtarget_transform\u001b[0m\u001b[0;34m,\u001b[0m \u001b[0maug\u001b[0m\u001b[0;34m=\u001b[0m\u001b[0;32mTrue\u001b[0m\u001b[0;34m)\u001b[0m\u001b[0;34m\u001b[0m\u001b[0;34m\u001b[0m\u001b[0m\n\u001b[0m\u001b[1;32m     97\u001b[0m     \u001b[0mdataset_vl\u001b[0m \u001b[0;34m=\u001b[0m \u001b[0mCustomDataset\u001b[0m\u001b[0;34m(\u001b[0m\u001b[0mroot\u001b[0m\u001b[0;34m,\u001b[0m \u001b[0minput_transform\u001b[0m\u001b[0;34m,\u001b[0m \u001b[0mtarget_transform\u001b[0m\u001b[0;34m,\u001b[0m \u001b[0maug\u001b[0m\u001b[0;34m=\u001b[0m\u001b[0;32mFalse\u001b[0m\u001b[0;34m)\u001b[0m\u001b[0;34m\u001b[0m\u001b[0;34m\u001b[0m\u001b[0m\n\u001b[1;32m     98\u001b[0m     \u001b[0msplit_size\u001b[0m \u001b[0;34m=\u001b[0m \u001b[0mint\u001b[0m\u001b[0;34m(\u001b[0m\u001b[0mlen\u001b[0m\u001b[0;34m(\u001b[0m\u001b[0mdataset_tr\u001b[0m\u001b[0;34m)\u001b[0m \u001b[0;34m*\u001b[0m \u001b[0mtrain_split\u001b[0m\u001b[0;34m)\u001b[0m\u001b[0;34m\u001b[0m\u001b[0;34m\u001b[0m\u001b[0m\n",
            "\u001b[0;32m/content/data_local_loader.py\u001b[0m in \u001b[0;36m__init__\u001b[0;34m(self, root, transform, target_transform, loader, aug)\u001b[0m\n\u001b[1;32m     54\u001b[0m \u001b[0;34m\u001b[0m\u001b[0m\n\u001b[1;32m     55\u001b[0m                 \u001b[0mbox_file_path\u001b[0m \u001b[0;34m=\u001b[0m \u001b[0mfile_path\u001b[0m\u001b[0;34m[\u001b[0m\u001b[0;34m:\u001b[0m\u001b[0;34m-\u001b[0m\u001b[0;36m4\u001b[0m\u001b[0;34m]\u001b[0m \u001b[0;34m+\u001b[0m \u001b[0mself\u001b[0m\u001b[0;34m.\u001b[0m\u001b[0mext\u001b[0m\u001b[0;34m\u001b[0m\u001b[0;34m\u001b[0m\u001b[0m\n\u001b[0;32m---> 56\u001b[0;31m                 \u001b[0mbox_str\u001b[0m \u001b[0;34m=\u001b[0m \u001b[0mopen\u001b[0m\u001b[0;34m(\u001b[0m\u001b[0mos\u001b[0m\u001b[0;34m.\u001b[0m\u001b[0mpath\u001b[0m\u001b[0;34m.\u001b[0m\u001b[0mjoin\u001b[0m\u001b[0;34m(\u001b[0m\u001b[0mself\u001b[0m\u001b[0;34m.\u001b[0m\u001b[0mroot\u001b[0m\u001b[0;34m,\u001b[0m \u001b[0mbox_file_path\u001b[0m\u001b[0;34m)\u001b[0m\u001b[0;34m,\u001b[0m \u001b[0;34m'r'\u001b[0m\u001b[0;34m,\u001b[0m \u001b[0mencoding\u001b[0m\u001b[0;34m=\u001b[0m\u001b[0;34m'utf-8'\u001b[0m\u001b[0;34m)\u001b[0m\u001b[0;34m.\u001b[0m\u001b[0mread\u001b[0m\u001b[0;34m(\u001b[0m\u001b[0;34m)\u001b[0m\u001b[0;34m.\u001b[0m\u001b[0msplit\u001b[0m\u001b[0;34m(\u001b[0m\u001b[0;34m'\\n'\u001b[0m\u001b[0;34m)\u001b[0m\u001b[0;34m[\u001b[0m\u001b[0;36m0\u001b[0m\u001b[0;34m]\u001b[0m\u001b[0;34m\u001b[0m\u001b[0;34m\u001b[0m\u001b[0m\n\u001b[0m\u001b[1;32m     57\u001b[0m                 \u001b[0mbox\u001b[0m \u001b[0;34m=\u001b[0m \u001b[0;34m[\u001b[0m\u001b[0mint\u001b[0m\u001b[0;34m(\u001b[0m\u001b[0mfloat\u001b[0m\u001b[0;34m(\u001b[0m\u001b[0mbb\u001b[0m\u001b[0;34m)\u001b[0m\u001b[0;34m)\u001b[0m \u001b[0;32mfor\u001b[0m \u001b[0mbb\u001b[0m \u001b[0;32min\u001b[0m \u001b[0mbox_str\u001b[0m\u001b[0;34m.\u001b[0m\u001b[0msplit\u001b[0m\u001b[0;34m(\u001b[0m\u001b[0;34m','\u001b[0m\u001b[0;34m)\u001b[0m\u001b[0;34m]\u001b[0m\u001b[0;34m\u001b[0m\u001b[0;34m\u001b[0m\u001b[0m\n\u001b[1;32m     58\u001b[0m                 \u001b[0mself\u001b[0m\u001b[0;34m.\u001b[0m\u001b[0mboxes\u001b[0m\u001b[0;34m.\u001b[0m\u001b[0mappend\u001b[0m\u001b[0;34m(\u001b[0m\u001b[0mbox\u001b[0m\u001b[0;34m)\u001b[0m\u001b[0;34m\u001b[0m\u001b[0;34m\u001b[0m\u001b[0m\n",
            "\u001b[0;31mFileNotFoundError\u001b[0m: [Errno 2] No such file or directory: '/content/gdrive/My Drive/Colab/11_idet5_car/train/train_data/00044.box'"
          ]
        }
      ]
    },
    {
      "cell_type": "code",
      "metadata": {
        "id": "w9vkMeEkhJNU",
        "colab_type": "code",
        "colab": {
          "base_uri": "https://localhost:8080/",
          "height": 1000
        },
        "outputId": "b33a1172-4220-40c5-b16a-75a4c64179a1"
      },
      "source": [
        "!ls '/content/gdrive/My Drive/Colab/11_idet5_car/train/train_data/'\n"
      ],
      "execution_count": 65,
      "outputs": [
        {
          "output_type": "stream",
          "text": [
            "00009.box  00325.jpg  00551.box  00804.box  01105.box  01410.jpg  01762.jpg\n",
            "00018.box  00326.jpg  00554.box  00805.box  01106.box  01416.jpg  01766.jpg\n",
            "00021.box  00330.jpg  00555.box  00806.box  01107.box  01438.jpg  01772.jpg\n",
            "00024.box  00331.jpg  00556.box  00807.box  01110.box  01448.box  01774.jpg\n",
            "00025.box  00342.box  00557.box  00810.box  01111.box  01449.box  01775.jpg\n",
            "00026.box  00343.box  00580.box  00811.box  01112.box  01459.box  01776.jpg\n",
            "00027.box  00344.box  00581.box  00812.box  01113.box  01460.box  01809.jpg\n",
            "00030.box  00345.box  00583.box  00813.box  01115.box  01461.box  01818.jpg\n",
            "00031.box  00346.box  00592.box  00814.box  01129.box  01462.box  01824.jpg\n",
            "00032.box  00347.box  00594.box  00828.box  01138.box  01463.box  01826.jpg\n",
            "00033.box  00350.box  00595.box  00838.box  01139.box  01465.box  01827.jpg\n",
            "00035.box  00351.box  00596.box  00839.box  01158.jpg  01471.box  01830.jpg\n",
            "00044.jpg  00352.box  00597.box  00849.jpg  01159.jpg  01475.box  01831.jpg\n",
            "00045.jpg  00353.box  00608.box  00858.jpg  01160.jpg  01476.box  01832.jpg\n",
            "00046.jpg  00356.box  00620.box  00864.jpg  01164.jpg  01477.box  01833.jpg\n",
            "00053.jpg  00357.box  00621.box  00865.jpg  01165.jpg  01488.box  01840.box\n",
            "00078.jpg  00378.box  00622.box  00866.jpg  01166.jpg  01489.box  01844.box\n",
            "00084.jpg  00379.box  00623.box  00871.jpg  01167.jpg  01500.box  01845.box\n",
            "00085.jpg  00380.box  00627.box  00872.jpg  01172.jpg  01501.box  01846.box\n",
            "00090.jpg  00381.box  00633.box  00873.jpg  01173.jpg  01502.box  01847.box\n",
            "00091.jpg  00384.box  00634.box  00875.jpg  01199.jpg  01503.box  01850.box\n",
            "00092.jpg  00385.box  00635.box  00899.jpg  01204.jpg  01514.box  01851.box\n",
            "00108.jpg  00386.box  00636.box  00900.jpg  01205.jpg  01515.box  01853.box\n",
            "00119.jpg  00387.box  00637.box  00901.jpg  01210.jpg  01516.box  01854.box\n",
            "00126.jpg  00390.box  00640.jpg  00906.jpg  01211.jpg  01528.box  01868.box\n",
            "00131.jpg  00391.box  00641.jpg  00907.jpg  01212.jpg  01529.box  01879.box\n",
            "00132.jpg  00392.box  00652.jpg  00911.jpg  01213.jpg  01549.jpg  01883.box\n",
            "00133.jpg  00394.box  00654.jpg  00912.jpg  01216.jpg  01558.jpg  01884.box\n",
            "00144.box  00395.box  00655.jpg  00913.jpg  01238.jpg  01561.jpg  01885.box\n",
            "00145.box  00408.box  00656.jpg  00914.jpg  01239.jpg  01562.jpg  01886.box\n",
            "00151.box  00409.box  00657.jpg  00929.jpg  01258.box  01563.jpg  01887.box\n",
            "00152.box  00418.box  00668.jpg  00948.box  01259.box  01564.jpg  01890.box\n",
            "00153.box  00419.box  00669.jpg  00958.box  01263.box  01575.jpg  01891.box\n",
            "00154.box  00420.box  00680.jpg  00959.box  01264.box  01576.jpg  01892.box\n",
            "00155.box  00421.box  00681.jpg  00960.box  01265.box  01588.jpg  01893.box\n",
            "00169.box  00422.box  00682.jpg  00964.box  01266.box  01589.jpg  01897.box\n",
            "00179.box  00425.box  00683.jpg  00965.box  01267.box  01600.jpg  01908.box\n",
            "00182.box  00430.box  00685.jpg  00966.box  01270.box  01601.jpg  01909.box\n",
            "00184.box  00431.box  00694.jpg  00970.box  01272.box  01612.jpg  01918.box\n",
            "00185.box  00434.box  00695.jpg  00971.box  01273.box  01615.jpg  01919.box\n",
            "00186.box  00435.box  00696.jpg  00972.box  01277.box  01628.jpg  01920.box\n",
            "00187.box  00436.box  00697.jpg  00973.box  01288.box  01629.jpg  01921.box\n",
            "00190.box  00437.box  00708.jpg  00974.box  01299.box  01648.box  01924.box\n",
            "00191.box  00442.jpg  00709.jpg  00999.box  01303.box  01649.box  01925.box\n",
            "00193.box  00443.jpg  00720.jpg  01000.jpg  01305.box  01660.box  01926.box\n",
            "00218.box  00456.jpg  00721.jpg  01004.jpg  01306.box  01661.box  01927.box\n",
            "00219.box  00457.jpg  00732.jpg  01005.jpg  01307.box  01662.box  01930.box\n",
            "00223.box  00468.jpg  00734.jpg  01006.jpg  01310.box  01663.box  01931.box\n",
            "00224.box  00469.jpg  00735.jpg  01007.jpg  01311.box  01667.box  01933.box\n",
            "00225.box  00478.jpg  00740.box  01010.jpg  01312.box  01673.box  01934.box\n",
            "00226.box  00480.jpg  00742.box  01012.jpg  01313.box  01674.box  01935.box\n",
            "00227.box  00481.jpg  00743.box  01013.jpg  01317.box  01675.box  01941.jpg\n",
            "00230.box  00483.jpg  00747.box  01038.jpg  01338.box  01676.box  01946.jpg\n",
            "00231.box  00487.jpg  00753.box  01048.box  01339.box  01689.box  01947.jpg\n",
            "00232.box  00493.jpg  00754.box  01049.box  01358.jpg  01698.box  01950.jpg\n",
            "00237.box  00494.jpg  00755.box  01058.box  01359.jpg  01700.box  01951.jpg\n",
            "00244.jpg  00495.jpg  00756.box  01059.box  01364.jpg  01701.box  01952.jpg\n",
            "00245.jpg  00496.jpg  00757.box  01060.box  01365.jpg  01702.box  01953.jpg\n",
            "00246.jpg  00497.jpg  00768.box  01061.box  01366.jpg  01703.box  01978.jpg\n",
            "00250.jpg  00518.jpg  00769.box  01064.box  01367.jpg  01706.box  01979.jpg\n",
            "00251.jpg  00520.jpg  00780.box  01065.box  01370.jpg  01707.box  01984.jpg\n",
            "00253.jpg  00521.jpg  00781.box  01067.box  01371.jpg  01712.box  01985.jpg\n",
            "00256.jpg  00522.jpg  00782.box  01071.box  01372.jpg  01713.box  01986.jpg\n",
            "00278.jpg  00523.jpg  00783.box  01072.box  01373.jpg  01714.box  01987.jpg\n",
            "00280.jpg  00535.jpg  00784.box  01073.box  01376.jpg  01716.box  01990.jpg\n",
            "00286.jpg  00536.jpg  00790.box  01074.box  01398.jpg  01717.box  01991.jpg\n",
            "00287.jpg  00537.jpg  00794.box  01075.box  01400.jpg  01728.box  01992.jpg\n",
            "00292.jpg  00541.box  00795.box  01098.box  01401.jpg  01748.jpg\n",
            "00293.jpg  00542.box  00796.box  01099.box  01402.jpg  01749.jpg\n",
            "00318.jpg  00543.box  00797.box  01101.box  01404.jpg  01760.jpg\n",
            "00322.jpg  00545.box  00800.box  01104.box  01405.jpg  01761.jpg\n"
          ],
          "name": "stdout"
        }
      ]
    },
    {
      "cell_type": "code",
      "metadata": {
        "id": "BLvAnplmhjC6",
        "colab_type": "code",
        "colab": {}
      },
      "source": [
        ""
      ],
      "execution_count": 0,
      "outputs": []
    }
  ]
}