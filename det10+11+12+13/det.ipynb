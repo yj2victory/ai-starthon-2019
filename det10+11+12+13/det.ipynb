{
  "nbformat": 4,
  "nbformat_minor": 0,
  "metadata": {
    "colab": {
      "name": "AI-STARTHON-2019-det",
      "provenance": []
    },
    "kernelspec": {
      "name": "python3",
      "display_name": "Python 3"
    },
    "accelerator": "GPU"
  },
  "cells": [
    {
      "cell_type": "markdown",
      "metadata": {
        "id": "ONJ7fd7sqciK",
        "colab_type": "text"
      },
      "source": [
        "# Prerequisite\n",
        "\n",
        "Task:\n",
        "\n",
        "파라미터 5MB 이내 사진 내의 자동차 영역 추출하기 \n",
        "\n",
        "Dataset Description:\n",
        "\n",
        "train\n",
        "--train_data (folder)\n",
        "        \\_ *.jpg (자동차 사진)\n",
        "        \\_ *.txt (bounding box ([x,y,w,h]))\n",
        "\n",
        "of training images: 1,749\n",
        "of test images: 230"
      ]
    },
    {
      "cell_type": "code",
      "metadata": {
        "id": "Ob_awu8rchxf",
        "colab_type": "code",
        "colab": {
          "resources": {
            "http://localhost:8080/nbextensions/google.colab/files.js": {
              "data": "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",
              "ok": true,
              "headers": [
                [
                  "content-type",
                  "application/javascript"
                ]
              ],
              "status": 200,
              "status_text": ""
            }
          },
          "base_uri": "https://localhost:8080/",
          "height": 343
        },
        "outputId": "cb612078-092a-4773-da91-364396150a90"
      },
      "source": [
        "from google.colab import files\n",
        "def getLocalFiles():\n",
        "    _files = files.upload()\n",
        "    if len(_files) >0:\n",
        "       for k,v in _files.items():\n",
        "         open(k,'wb').write(v)\n",
        "getLocalFiles()"
      ],
      "execution_count": 4,
      "outputs": [
        {
          "output_type": "display_data",
          "data": {
            "text/html": [
              "\n",
              "     <input type=\"file\" id=\"files-90429e1a-e6f0-4dc7-b7b1-88b8c2a1ac75\" name=\"files[]\" multiple disabled />\n",
              "     <output id=\"result-90429e1a-e6f0-4dc7-b7b1-88b8c2a1ac75\">\n",
              "      Upload widget is only available when the cell has been executed in the\n",
              "      current browser session. Please rerun this cell to enable.\n",
              "      </output>\n",
              "      <script src=\"/nbextensions/google.colab/files.js\"></script> "
            ],
            "text/plain": [
              "<IPython.core.display.HTML object>"
            ]
          },
          "metadata": {
            "tags": []
          }
        },
        {
          "output_type": "stream",
          "text": [
            "Saving common.py to common.py\n",
            "Saving data_loader.py to data_loader.py\n",
            "Saving data_local_loader.py to data_local_loader.py\n",
            "Saving ensemble_task12.py to ensemble_task12.py\n",
            "Saving evaluation.py to evaluation.py\n",
            "Saving main.py to main.py\n",
            "Saving model.py to model.py\n",
            "Saving setup.py to setup.py\n",
            "Saving utils.py to utils.py\n"
          ],
          "name": "stdout"
        }
      ]
    },
    {
      "cell_type": "code",
      "metadata": {
        "id": "dXaGzRJhiRWY",
        "colab_type": "code",
        "colab": {
          "base_uri": "https://localhost:8080/",
          "height": 51
        },
        "outputId": "0b791236-64e8-4d35-8d13-77a5fda012e7"
      },
      "source": [
        "!rm /content/*.py\n",
        "!ls"
      ],
      "execution_count": 3,
      "outputs": [
        {
          "output_type": "stream",
          "text": [
            "rm: cannot remove '/content/*.py': No such file or directory\n",
            "sample_data\n"
          ],
          "name": "stdout"
        }
      ]
    },
    {
      "cell_type": "code",
      "metadata": {
        "id": "fVlgtGEjdhEv",
        "colab_type": "code",
        "colab": {
          "base_uri": "https://localhost:8080/",
          "height": 122
        },
        "outputId": "9c2b0306-c6c0-4f79-9027-e6e7a469bab8"
      },
      "source": [
        "from google.colab import auth\n",
        "auth.authenticate_user()\n",
        "\n",
        "from google.colab import drive\n",
        "drive.mount('/content/gdrive')\n",
        "\n"
      ],
      "execution_count": 10,
      "outputs": [
        {
          "output_type": "stream",
          "text": [
            "Go to this URL in a browser: https://accounts.google.com/o/oauth2/auth?client_id=947318989803-6bn6qk8qdgf4n4g3pfee6491hc0brc4i.apps.googleusercontent.com&redirect_uri=urn%3aietf%3awg%3aoauth%3a2.0%3aoob&response_type=code&scope=email%20https%3a%2f%2fwww.googleapis.com%2fauth%2fdocs.test%20https%3a%2f%2fwww.googleapis.com%2fauth%2fdrive%20https%3a%2f%2fwww.googleapis.com%2fauth%2fdrive.photos.readonly%20https%3a%2f%2fwww.googleapis.com%2fauth%2fpeopleapi.readonly\n",
            "\n",
            "Enter your authorization code:\n",
            "··········\n",
            "Mounted at /content/gdrive\n"
          ],
          "name": "stdout"
        }
      ]
    },
    {
      "cell_type": "code",
      "metadata": {
        "id": "-eOlaYdeeGCx",
        "colab_type": "code",
        "colab": {
          "base_uri": "https://localhost:8080/",
          "height": 34
        },
        "outputId": "ed777d80-3bc9-4aca-894c-3bbda49cc39a"
      },
      "source": [
        "!ls \"/content/gdrive/My Drive/Colab/\""
      ],
      "execution_count": 11,
      "outputs": [
        {
          "output_type": "stream",
          "text": [
            "11_idet5_car  cifar-100-python\n"
          ],
          "name": "stdout"
        }
      ]
    },
    {
      "cell_type": "code",
      "metadata": {
        "id": "51ToVhUXdIp2",
        "colab_type": "code",
        "colab": {}
      },
      "source": [
        "import os\n",
        "import datetime\n",
        "import sys\n",
        "\n",
        "import numpy as np\n",
        "\n",
        "import torch\n",
        "from torch.optim import Adam\n",
        "\n",
        "import argparse\n",
        "\n",
        "from torch.optim.sgd import SGD\n",
        "\n",
        "from common import Accumulator, get_logger\n",
        "from data_loader import feed_infer\n",
        "from data_local_loader import data_loader, data_loader_with_split\n",
        "from evaluation import evaluation_metrics\n",
        "\n",
        "# import nsml\n",
        "# from nsml import DATASET_PATH, IS_ON_NSML\n",
        "\n",
        "from model import SSD300, MultiBoxLoss\n",
        "\n",
        "# if IS_ON_NSML:\n",
        "#     TRAIN_DATASET_PATH = os.path.join(DATASET_PATH, 'train', 'train_data')\n",
        "#     VAL_DATASET_PATH = None\n",
        "# else:\n",
        "#     TRAIN_DATASET_PATH = os.path.join('/home/data/NIPAKoreanFoodLocalizeSmall/train/train_data')\n",
        "#     VAL_DATASET_PATH = os.path.join('/home/data/NIPAKoreanFoodLocalizeSmall/test')\n",
        "data_path='/content/gdrive/My Drive/Colab/11_idet5_car/'\n",
        "TRAIN_DATASET_PATH = os.path.join(data_path+'train/train_data')\n",
        "VAL_DATASET_PATH = os.path.join(data_path+'test')\n",
        "\n",
        "\n",
        "logger = get_logger('det')\n"
      ],
      "execution_count": 0,
      "outputs": []
    },
    {
      "cell_type": "code",
      "metadata": {
        "id": "bE4ypUbMfAqs",
        "colab_type": "code",
        "colab": {}
      },
      "source": [
        "def _infer(model, root_path, test_loader=None):\n",
        "    if test_loader is None:\n",
        "        test_loader = data_loader(\n",
        "            root=os.path.join(root_path, 'test_data'),\n",
        "            phase='test')\n",
        "\n",
        "    model.eval()\n",
        "    outputs = []\n",
        "    for idx, (image, _) in enumerate(test_loader):\n",
        "        with torch.no_grad():\n",
        "            locs, scores = model(image.cuda())\n",
        "            all_images_boxes, _ = model.detect_objects(locs, scores)\n",
        "\n",
        "        for box in all_images_boxes:\n",
        "            box = box.detach().cpu().numpy()\n",
        "            outputs.append(box)\n",
        "\n",
        "    outputs = np.stack(outputs, axis=0)\n",
        "    return outputs\n",
        "\n",
        "\n",
        "def local_eval(model, test_loader=None, test_label_file=None):\n",
        "    prediction_file = 'pred_train.txt'\n",
        "    feed_infer(prediction_file, lambda root_path: _infer(model, root_path, test_loader=test_loader))\n",
        "    if not test_label_file:\n",
        "        test_label_file = os.path.join(VAL_DATASET_PATH, 'test_label')\n",
        "    metric_result = evaluation_metrics(\n",
        "        prediction_file,\n",
        "        test_label_file\n",
        "    )\n",
        "    logger.info('Eval result: {:.4f} mIoU'.format(metric_result))\n",
        "    return metric_result\n",
        "\n",
        "\n",
        "# def bind_nsml(model, optimizer, scheduler):\n",
        "#     def save(dir_name, *args, **kwargs):\n",
        "#         os.makedirs(dir_name, exist_ok=True)\n",
        "#         state = {\n",
        "#             'model': model.state_dict(),\n",
        "#             'optimizer': optimizer.state_dict(),\n",
        "#             'scheduler': scheduler.state_dict()\n",
        "#         }\n",
        "#         torch.save(state, os.path.join(dir_name, 'model.pth'))\n",
        "#         logger.info('saved')\n",
        "\n",
        "#     def load(dir_name, *args, **kwargs):\n",
        "#         state = torch.load(os.path.join(dir_name, 'model.pth'))\n",
        "#         model.load_state_dict(state['model'])\n",
        "#         optimizer.load_state_dict(state['optimizer'])\n",
        "#         scheduler.load_state_dict(state['scheduler'])\n",
        "#         logger.info('loaded')\n",
        "\n",
        "#     def infer(root_path):\n",
        "#         return _infer(model, root_path)\n",
        "\n",
        "#      nsml.bind(save=save, load=load, infer=infer)\n",
        "\n"
      ],
      "execution_count": 0,
      "outputs": []
    },
    {
      "cell_type": "code",
      "metadata": {
        "id": "BvWOrEPHfkH1",
        "colab_type": "code",
        "colab": {}
      },
      "source": [
        "# mode argument\n",
        "args = argparse.ArgumentParser()\n",
        "args.add_argument(\"--train_split\", type=float, default=0.9)\n",
        "args.add_argument(\"--lr\", type=float, default=0.001)\n",
        "args.add_argument(\"--batch\", type=int, default=64)\n",
        "args.add_argument(\"--cuda\", type=bool, default=True)\n",
        "args.add_argument(\"--num_epochs\", type=int, default=200)\n",
        "args.add_argument(\"--eval_split\", type=str, default='val')\n",
        "args.add_argument(\"--transfer\", type=int, default=0)\n",
        "\n",
        "# reserved for nsml\n",
        "args.add_argument(\"--mode\", type=str, default=\"train\")\n",
        "args.add_argument(\"--iteration\", type=str, default='0')\n",
        "args.add_argument(\"--pause\", type=int, default=0)\n",
        "\n",
        "\n",
        "train_split = 0.9\n",
        "base_lr = 0.001\n",
        "cuda = False\n",
        "num_epochs = 200\n",
        "eval_split = 'val'\n",
        "mode = \"train\"     \n"
      ],
      "execution_count": 0,
      "outputs": []
    },
    {
      "cell_type": "code",
      "metadata": {
        "id": "uVQe16bVf3ci",
        "colab_type": "code",
        "colab": {}
      },
      "source": [
        "model = SSD300(n_classes=2)\n",
        "loss_fn = MultiBoxLoss(priors_cxcy=model.priors_cxcy)\n",
        "\n",
        "if cuda:\n",
        "  model = model.cuda()\n",
        "  loss_fn = loss_fn.cuda()\n",
        "\n",
        "optimizer = Adam([param for param in model.parameters() if param.requires_grad], lr=base_lr, weight_decay=1e-4)\n",
        "# optimizer = SGD([param for param in model.parameters() if param.requires_grad], lr=base_lr, weight_decay=1e-4, momentum=0.9, nesterov=True)\n",
        "scheduler = torch.optim.lr_scheduler.CosineAnnealingLR(optimizer, T_max=num_epochs, eta_min=0.)"
      ],
      "execution_count": 0,
      "outputs": []
    },
    {
      "cell_type": "code",
      "metadata": {
        "id": "SdpvfPVugeJ2",
        "colab_type": "code",
        "colab": {}
      },
      "source": [
        "if mode == 'train':\n",
        "  tr_loader, val_loader, val_label_file = data_loader_with_split(root=TRAIN_DATASET_PATH, train_split=train_split, batch_size=64)\n",
        "  time_ = datetime.datetime.now()\n",
        "  num_batches = len(tr_loader)\n",
        "\n",
        "  local_eval(model, val_loader, val_label_file)\n",
        "  best_iou = 0.\n",
        "  for epoch in range(num_epochs):\n",
        "    metrics = Accumulator()\n",
        "    scheduler.step()\n",
        "    model.train()\n",
        "    cnt = 0\n",
        "    for iter_, data in enumerate(tr_loader):\n",
        "      x, label = data\n",
        "      label[:, :, 2:] = label[:, :, 2:] + label[:, :, :2]  # convert to min-xy, max-xy\n",
        "\n",
        "      if cuda:\n",
        "        x = x.cuda()\n",
        "        label = label.cuda()\n",
        "\n",
        "      predicted_locs, predicted_scores = model(x)\n",
        "      loss = loss_fn(predicted_locs, predicted_scores, label, torch.ones((label.shape[0], 1), dtype=torch.long))\n",
        "      if torch.isnan(loss):\n",
        "        logger.error('loss nan. epoch=%d iter=%d' % (epoch, iter_))\n",
        "        sys.exit(-1)\n",
        "      optimizer.zero_grad()\n",
        "      loss.backward()\n",
        "      optimizer.step()\n",
        "\n",
        "      metrics.add_dict({\n",
        "                    'loss': loss.item() * len(x)\n",
        "                })\n",
        "      cnt += len(x)\n",
        "\n",
        "      if iter_ >= 50:  # TODO\n",
        "        break\n",
        "\n",
        "      postfix = metrics / cnt\n",
        "      logger.info('[{:d}/{:d}] lr({:.6f}) loss({:.4f})'.format(\n",
        "                epoch + 1, num_epochs, optimizer.param_groups[0]['lr'], postfix['loss'])\n",
        "            )\n",
        "\n",
        "      if (epoch + 1) % 5 == 0:\n",
        "          miou = local_eval(model, val_loader, val_label_file)\n",
        "          if best_iou < miou:\n",
        "              best_iou = miou\n",
        "          #     nsml.save('best')\n",
        "          #     nsml.report(summary=True, scope=locals(), step=(epoch + 1), loss=postfix['loss'], miou=miou)\n",
        "          # nsml.save(str(epoch + 1))\n",
        "          # nsml.report(summary=True, scope=locals(), step=(epoch + 1), loss=postfix['loss'], miou=miou)\n",
        "\n",
        "      elapsed = datetime.datetime.now() - time_"
      ],
      "execution_count": 0,
      "outputs": []
    },
    {
      "cell_type": "code",
      "metadata": {
        "id": "w9vkMeEkhJNU",
        "colab_type": "code",
        "colab": {
          "base_uri": "https://localhost:8080/",
          "height": 34
        },
        "outputId": "09437c73-c471-4802-b0d3-9b59f61c211f"
      },
      "source": [
        "!ls -ali '/content/gdrive/My Drive/Colab/11_idet5_car/train/train_data/00015.box'\n"
      ],
      "execution_count": 70,
      "outputs": [
        {
          "output_type": "stream",
          "text": [
            "5586 -rw------- 1 root root 44 Jul 19  2019 '/content/gdrive/My Drive/Colab/11_idet5_car/train/train_data/00015.box'\n"
          ],
          "name": "stdout"
        }
      ]
    },
    {
      "cell_type": "code",
      "metadata": {
        "id": "BLvAnplmhjC6",
        "colab_type": "code",
        "colab": {}
      },
      "source": [
        ""
      ],
      "execution_count": 0,
      "outputs": []
    }
  ]
}
